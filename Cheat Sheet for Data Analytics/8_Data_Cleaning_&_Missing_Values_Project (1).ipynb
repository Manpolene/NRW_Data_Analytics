{
 "cells": [
  {
   "cell_type": "markdown",
   "metadata": {
    "id": "2zxREd_otAge"
   },
   "source": [
    "![Immoscout](https://raw.githubusercontent.com/juliandnl/redi_ss20/master/image.png)"
   ]
  },
  {
   "cell_type": "markdown",
   "metadata": {
    "id": "YAmw_s-VtIaV"
   },
   "source": [
    "# Project - Cleaning the Expanded Immobilien Scout 24 Dataset\n",
    "\n",
    "--- \n",
    "After exploring the original dataset and trying to build a predictive model with it, it was discovered that we need more data. Unfortunately we lost access to Immobilien Scout's API so we had to scrape the data. While this worked, the data is quite messy and needs to be cleaned before we can use it. In this exercise you'll clean the remaining of the data."
   ]
  },
  {
   "cell_type": "code",
   "execution_count": 32,
   "metadata": {
    "id": "cDxFVRHbq6eR"
   },
   "outputs": [],
   "source": [
    "import numpy as np\n",
    "import pandas as pd\n",
    "# import plotly.express as px"
   ]
  },
  {
   "cell_type": "code",
   "execution_count": 33,
   "metadata": {
    "id": "2GD2ryFwto1a"
   },
   "outputs": [],
   "source": [
    "# Read in dataset\n",
    "df = pd.read_pickle(\"berlin_housing_with_scraped_class_cleaned.pkl\")"
   ]
  },
  {
   "cell_type": "code",
   "execution_count": 34,
   "metadata": {},
   "outputs": [
    {
     "data": {
      "text/html": [
       "<div>\n",
       "<style scoped>\n",
       "    .dataframe tbody tr th:only-of-type {\n",
       "        vertical-align: middle;\n",
       "    }\n",
       "\n",
       "    .dataframe tbody tr th {\n",
       "        vertical-align: top;\n",
       "    }\n",
       "\n",
       "    .dataframe thead th {\n",
       "        text-align: right;\n",
       "    }\n",
       "</style>\n",
       "<table border=\"1\" class=\"dataframe\">\n",
       "  <thead>\n",
       "    <tr style=\"text-align: right;\">\n",
       "      <th></th>\n",
       "      <th>url</th>\n",
       "      <th>region</th>\n",
       "      <th>condition</th>\n",
       "      <th>rooms</th>\n",
       "      <th>rent</th>\n",
       "      <th>year_construction</th>\n",
       "      <th>space</th>\n",
       "      <th>cold_rent</th>\n",
       "      <th>utilities</th>\n",
       "      <th>heating_costs</th>\n",
       "      <th>...</th>\n",
       "      <th>property_condition</th>\n",
       "      <th>furnishing</th>\n",
       "      <th>heating_type</th>\n",
       "      <th>energy_sources</th>\n",
       "      <th>energy_certificate</th>\n",
       "      <th>type_of_certificate</th>\n",
       "      <th>energy_requirement</th>\n",
       "      <th>efficiency_class</th>\n",
       "      <th>deposit_cleaned</th>\n",
       "      <th>n_missing</th>\n",
       "    </tr>\n",
       "  </thead>\n",
       "  <tbody>\n",
       "    <tr>\n",
       "      <th>0</th>\n",
       "      <td>https://www.immobilienscout24.de/expose/116051687</td>\n",
       "      <td>Mitte</td>\n",
       "      <td>first_time_use</td>\n",
       "      <td>4.0</td>\n",
       "      <td>2659.00</td>\n",
       "      <td>2019</td>\n",
       "      <td>117.20</td>\n",
       "      <td>2.200000</td>\n",
       "      <td>+460€</td>\n",
       "      <td>in</td>\n",
       "      <td>...</td>\n",
       "      <td>New</td>\n",
       "      <td>NaN</td>\n",
       "      <td>Underfloor Heating</td>\n",
       "      <td>NaN</td>\n",
       "      <td>NaN</td>\n",
       "      <td>Bedarfsausweis</td>\n",
       "      <td>NaN</td>\n",
       "      <td>B</td>\n",
       "      <td>7977.00</td>\n",
       "      <td>5</td>\n",
       "    </tr>\n",
       "    <tr>\n",
       "      <th>1</th>\n",
       "      <td>https://www.immobilienscout24.de/expose/115338103</td>\n",
       "      <td>Kreuzberg</td>\n",
       "      <td>first_time_use</td>\n",
       "      <td>1.0</td>\n",
       "      <td>1200.00</td>\n",
       "      <td>2020</td>\n",
       "      <td>29.33</td>\n",
       "      <td>973.510000</td>\n",
       "      <td>+226,49€</td>\n",
       "      <td>in</td>\n",
       "      <td>...</td>\n",
       "      <td>New</td>\n",
       "      <td>Gehobene Qualität</td>\n",
       "      <td>Central Heating</td>\n",
       "      <td>Fernwärme Energieausweis liegt vor</td>\n",
       "      <td>liegt vor</td>\n",
       "      <td>NaN</td>\n",
       "      <td>NaN</td>\n",
       "      <td>NaN</td>\n",
       "      <td>2920.53</td>\n",
       "      <td>5</td>\n",
       "    </tr>\n",
       "    <tr>\n",
       "      <th>2</th>\n",
       "      <td>https://www.immobilienscout24.de/expose/116458710</td>\n",
       "      <td>Köpenick</td>\n",
       "      <td>well_kept</td>\n",
       "      <td>2.0</td>\n",
       "      <td>979.00</td>\n",
       "      <td>1997</td>\n",
       "      <td>83.61</td>\n",
       "      <td>799.000000</td>\n",
       "      <td>+90€</td>\n",
       "      <td>+90€</td>\n",
       "      <td>...</td>\n",
       "      <td>Groomed</td>\n",
       "      <td>Normale Qualität</td>\n",
       "      <td>Central Heating</td>\n",
       "      <td>Fernwärme Energieausweis liegt vor</td>\n",
       "      <td>liegt vor</td>\n",
       "      <td>Verbrauchsausweis Energie­ver­brauchs­kennwert...</td>\n",
       "      <td>NaN</td>\n",
       "      <td>NaN</td>\n",
       "      <td>2937.00</td>\n",
       "      <td>4</td>\n",
       "    </tr>\n",
       "    <tr>\n",
       "      <th>3</th>\n",
       "      <td>https://www.immobilienscout24.de/expose/116573177</td>\n",
       "      <td>Wilmersdorf</td>\n",
       "      <td>well_kept</td>\n",
       "      <td>4.0</td>\n",
       "      <td>1830.22</td>\n",
       "      <td>1900</td>\n",
       "      <td>171.18</td>\n",
       "      <td>428.261712</td>\n",
       "      <td>NaN</td>\n",
       "      <td>NaN</td>\n",
       "      <td>...</td>\n",
       "      <td>Unknown</td>\n",
       "      <td>NaN</td>\n",
       "      <td>NaN</td>\n",
       "      <td>NaN</td>\n",
       "      <td>NaN</td>\n",
       "      <td>NaN</td>\n",
       "      <td>NaN</td>\n",
       "      <td>NaN</td>\n",
       "      <td>5490.66</td>\n",
       "      <td>13</td>\n",
       "    </tr>\n",
       "    <tr>\n",
       "      <th>4</th>\n",
       "      <td>https://www.immobilienscout24.de/expose/115925878</td>\n",
       "      <td>Kreuzberg</td>\n",
       "      <td>first_time_use</td>\n",
       "      <td>2.0</td>\n",
       "      <td>2272.00</td>\n",
       "      <td>2020</td>\n",
       "      <td>88.27</td>\n",
       "      <td>531.635875</td>\n",
       "      <td>NaN</td>\n",
       "      <td>NaN</td>\n",
       "      <td>...</td>\n",
       "      <td>New</td>\n",
       "      <td>Gehobene Qualität</td>\n",
       "      <td>Central Heating</td>\n",
       "      <td>Fernwärme Energieausweis liegt zur Besichtigun...</td>\n",
       "      <td>liegt zur Besichtigung vor</td>\n",
       "      <td>NaN</td>\n",
       "      <td>NaN</td>\n",
       "      <td>NaN</td>\n",
       "      <td>6816.00</td>\n",
       "      <td>8</td>\n",
       "    </tr>\n",
       "  </tbody>\n",
       "</table>\n",
       "<p>5 rows × 23 columns</p>\n",
       "</div>"
      ],
      "text/plain": [
       "                                                 url       region  \\\n",
       "0  https://www.immobilienscout24.de/expose/116051687        Mitte   \n",
       "1  https://www.immobilienscout24.de/expose/115338103    Kreuzberg   \n",
       "2  https://www.immobilienscout24.de/expose/116458710     Köpenick   \n",
       "3  https://www.immobilienscout24.de/expose/116573177  Wilmersdorf   \n",
       "4  https://www.immobilienscout24.de/expose/115925878    Kreuzberg   \n",
       "\n",
       "        condition  rooms     rent  year_construction   space   cold_rent  \\\n",
       "0  first_time_use    4.0  2659.00               2019  117.20    2.200000   \n",
       "1  first_time_use    1.0  1200.00               2020   29.33  973.510000   \n",
       "2       well_kept    2.0   979.00               1997   83.61  799.000000   \n",
       "3       well_kept    4.0  1830.22               1900  171.18  428.261712   \n",
       "4  first_time_use    2.0  2272.00               2020   88.27  531.635875   \n",
       "\n",
       "  utilities heating_costs  ... property_condition         furnishing  \\\n",
       "0     +460€            in  ...                New                NaN   \n",
       "1  +226,49€            in  ...                New  Gehobene Qualität   \n",
       "2      +90€          +90€  ...            Groomed   Normale Qualität   \n",
       "3       NaN           NaN  ...            Unknown                NaN   \n",
       "4       NaN           NaN  ...                New  Gehobene Qualität   \n",
       "\n",
       "         heating_type                                     energy_sources  \\\n",
       "0  Underfloor Heating                                                NaN   \n",
       "1     Central Heating                 Fernwärme Energieausweis liegt vor   \n",
       "2     Central Heating                 Fernwärme Energieausweis liegt vor   \n",
       "3                 NaN                                                NaN   \n",
       "4     Central Heating  Fernwärme Energieausweis liegt zur Besichtigun...   \n",
       "\n",
       "           energy_certificate  \\\n",
       "0                         NaN   \n",
       "1                   liegt vor   \n",
       "2                   liegt vor   \n",
       "3                         NaN   \n",
       "4  liegt zur Besichtigung vor   \n",
       "\n",
       "                                 type_of_certificate energy_requirement  \\\n",
       "0                                     Bedarfsausweis                NaN   \n",
       "1                                                NaN                NaN   \n",
       "2  Verbrauchsausweis Energie­ver­brauchs­kennwert...                NaN   \n",
       "3                                                NaN                NaN   \n",
       "4                                                NaN                NaN   \n",
       "\n",
       "  efficiency_class deposit_cleaned n_missing  \n",
       "0                B         7977.00         5  \n",
       "1              NaN         2920.53         5  \n",
       "2              NaN         2937.00         4  \n",
       "3              NaN         5490.66        13  \n",
       "4              NaN         6816.00         8  \n",
       "\n",
       "[5 rows x 23 columns]"
      ]
     },
     "execution_count": 34,
     "metadata": {},
     "output_type": "execute_result"
    }
   ],
   "source": [
    "df.head()"
   ]
  },
  {
   "cell_type": "code",
   "execution_count": 35,
   "metadata": {},
   "outputs": [
    {
     "data": {
      "text/plain": [
       "(764, 23)"
      ]
     },
     "execution_count": 35,
     "metadata": {},
     "output_type": "execute_result"
    }
   ],
   "source": [
    "df.shape"
   ]
  },
  {
   "cell_type": "code",
   "execution_count": 36,
   "metadata": {},
   "outputs": [
    {
     "name": "stdout",
     "output_type": "stream",
     "text": [
      "<class 'pandas.core.frame.DataFrame'>\n",
      "RangeIndex: 764 entries, 0 to 763\n",
      "Data columns (total 23 columns):\n",
      " #   Column               Non-Null Count  Dtype  \n",
      "---  ------               --------------  -----  \n",
      " 0   url                  764 non-null    object \n",
      " 1   region               764 non-null    object \n",
      " 2   condition            764 non-null    object \n",
      " 3   rooms                764 non-null    float64\n",
      " 4   rent                 764 non-null    float64\n",
      " 5   year_construction    764 non-null    int64  \n",
      " 6   space                764 non-null    float64\n",
      " 7   cold_rent            764 non-null    float64\n",
      " 8   utilities            426 non-null    object \n",
      " 9   heating_costs        426 non-null    object \n",
      " 10  security_deposit     764 non-null    object \n",
      " 11  parking_space        90 non-null     object \n",
      " 12  renovated_date       195 non-null    float64\n",
      " 13  property_condition   764 non-null    object \n",
      " 14  furnishing           445 non-null    object \n",
      " 15  heating_type         515 non-null    object \n",
      " 16  energy_sources       494 non-null    object \n",
      " 17  energy_certificate   451 non-null    object \n",
      " 18  type_of_certificate  467 non-null    object \n",
      " 19  energy_requirement   326 non-null    object \n",
      " 20  efficiency_class     251 non-null    object \n",
      " 21  deposit_cleaned      764 non-null    float64\n",
      " 22  n_missing            764 non-null    int64  \n",
      "dtypes: float64(6), int64(2), object(15)\n",
      "memory usage: 137.4+ KB\n"
     ]
    }
   ],
   "source": [
    "df.info()"
   ]
  },
  {
   "cell_type": "markdown",
   "metadata": {
    "id": "PZmVxvM_4C5V"
   },
   "source": [
    "## 0. Before cleaning, print out how many missing values (sorted for readability) each column has:"
   ]
  },
  {
   "cell_type": "code",
   "execution_count": 37,
   "metadata": {
    "id": "OELxGQNs-AhR"
   },
   "outputs": [
    {
     "data": {
      "text/plain": [
       "parking_space          674\n",
       "renovated_date         569\n",
       "efficiency_class       513\n",
       "energy_requirement     438\n",
       "heating_costs          338\n",
       "utilities              338\n",
       "furnishing             319\n",
       "energy_certificate     313\n",
       "type_of_certificate    297\n",
       "energy_sources         270\n",
       "heating_type           249\n",
       "year_construction        0\n",
       "region                   0\n",
       "condition                0\n",
       "rooms                    0\n",
       "rent                     0\n",
       "n_missing                0\n",
       "space                    0\n",
       "cold_rent                0\n",
       "security_deposit         0\n",
       "deposit_cleaned          0\n",
       "property_condition       0\n",
       "url                      0\n",
       "dtype: int64"
      ]
     },
     "execution_count": 37,
     "metadata": {},
     "output_type": "execute_result"
    }
   ],
   "source": [
    "## code here\n",
    "df.isna().sum().sort_values(ascending=False)"
   ]
  },
  {
   "cell_type": "markdown",
   "metadata": {
    "id": "UeSRMJD94EZ7"
   },
   "source": [
    "## 1. Clean: `heating_type`\n",
    "\n",
    "Please explain why you choose your strategy for filling the missing values."
   ]
  },
  {
   "cell_type": "code",
   "execution_count": 38,
   "metadata": {
    "id": "BpfSyexk-Cju"
   },
   "outputs": [
    {
     "data": {
      "text/plain": [
       "Central Heating        201\n",
       "District Heating       149\n",
       "Underfloor Heating     127\n",
       "Floor Heating           24\n",
       "Gas Heating             10\n",
       "Wood Pellet Heating      2\n",
       "CHP Plants               2\n",
       "Name: heating_type, dtype: int64"
      ]
     },
     "execution_count": 38,
     "metadata": {},
     "output_type": "execute_result"
    }
   ],
   "source": [
    "## code here\n",
    "df['heating_type'].value_counts()"
   ]
  },
  {
   "cell_type": "code",
   "execution_count": 39,
   "metadata": {},
   "outputs": [
    {
     "data": {
      "text/plain": [
       "0.32591623036649214"
      ]
     },
     "execution_count": 39,
     "metadata": {},
     "output_type": "execute_result"
    }
   ],
   "source": [
    "df['heating_type'].isna().sum() / len(df)"
   ]
  },
  {
   "cell_type": "code",
   "execution_count": 40,
   "metadata": {
    "scrolled": false
   },
   "outputs": [
    {
     "data": {
      "text/plain": [
       "Missing                249\n",
       "Central Heating        201\n",
       "District Heating       149\n",
       "Underfloor Heating     127\n",
       "Floor Heating           24\n",
       "Gas Heating             10\n",
       "Wood Pellet Heating      2\n",
       "CHP Plants               2\n",
       "Name: heating_type, dtype: int64"
      ]
     },
     "execution_count": 40,
     "metadata": {},
     "output_type": "execute_result"
    }
   ],
   "source": [
    "# Method 1:\n",
    "df['heating_type'].fillna(\"Missing\").value_counts()"
   ]
  },
  {
   "cell_type": "code",
   "execution_count": 41,
   "metadata": {},
   "outputs": [
    {
     "data": {
      "text/html": [
       "<div>\n",
       "<style scoped>\n",
       "    .dataframe tbody tr th:only-of-type {\n",
       "        vertical-align: middle;\n",
       "    }\n",
       "\n",
       "    .dataframe tbody tr th {\n",
       "        vertical-align: top;\n",
       "    }\n",
       "\n",
       "    .dataframe thead th {\n",
       "        text-align: right;\n",
       "    }\n",
       "</style>\n",
       "<table border=\"1\" class=\"dataframe\">\n",
       "  <thead>\n",
       "    <tr style=\"text-align: right;\">\n",
       "      <th></th>\n",
       "      <th>url</th>\n",
       "      <th>region</th>\n",
       "      <th>condition</th>\n",
       "      <th>rooms</th>\n",
       "      <th>rent</th>\n",
       "      <th>year_construction</th>\n",
       "      <th>space</th>\n",
       "      <th>cold_rent</th>\n",
       "      <th>utilities</th>\n",
       "      <th>heating_costs</th>\n",
       "      <th>...</th>\n",
       "      <th>property_condition</th>\n",
       "      <th>furnishing</th>\n",
       "      <th>heating_type</th>\n",
       "      <th>energy_sources</th>\n",
       "      <th>energy_certificate</th>\n",
       "      <th>type_of_certificate</th>\n",
       "      <th>energy_requirement</th>\n",
       "      <th>efficiency_class</th>\n",
       "      <th>deposit_cleaned</th>\n",
       "      <th>n_missing</th>\n",
       "    </tr>\n",
       "  </thead>\n",
       "  <tbody>\n",
       "    <tr>\n",
       "      <th>0</th>\n",
       "      <td>https://www.immobilienscout24.de/expose/116051687</td>\n",
       "      <td>Mitte</td>\n",
       "      <td>first_time_use</td>\n",
       "      <td>4.0</td>\n",
       "      <td>2659.00</td>\n",
       "      <td>2019</td>\n",
       "      <td>117.20</td>\n",
       "      <td>2.200000</td>\n",
       "      <td>+460€</td>\n",
       "      <td>in</td>\n",
       "      <td>...</td>\n",
       "      <td>New</td>\n",
       "      <td>NaN</td>\n",
       "      <td>Underfloor Heating</td>\n",
       "      <td>NaN</td>\n",
       "      <td>NaN</td>\n",
       "      <td>Bedarfsausweis</td>\n",
       "      <td>NaN</td>\n",
       "      <td>B</td>\n",
       "      <td>7977.00</td>\n",
       "      <td>5</td>\n",
       "    </tr>\n",
       "    <tr>\n",
       "      <th>1</th>\n",
       "      <td>https://www.immobilienscout24.de/expose/115338103</td>\n",
       "      <td>Kreuzberg</td>\n",
       "      <td>first_time_use</td>\n",
       "      <td>1.0</td>\n",
       "      <td>1200.00</td>\n",
       "      <td>2020</td>\n",
       "      <td>29.33</td>\n",
       "      <td>973.510000</td>\n",
       "      <td>+226,49€</td>\n",
       "      <td>in</td>\n",
       "      <td>...</td>\n",
       "      <td>New</td>\n",
       "      <td>Gehobene Qualität</td>\n",
       "      <td>Central Heating</td>\n",
       "      <td>Fernwärme Energieausweis liegt vor</td>\n",
       "      <td>liegt vor</td>\n",
       "      <td>NaN</td>\n",
       "      <td>NaN</td>\n",
       "      <td>NaN</td>\n",
       "      <td>2920.53</td>\n",
       "      <td>5</td>\n",
       "    </tr>\n",
       "    <tr>\n",
       "      <th>2</th>\n",
       "      <td>https://www.immobilienscout24.de/expose/116458710</td>\n",
       "      <td>Köpenick</td>\n",
       "      <td>well_kept</td>\n",
       "      <td>2.0</td>\n",
       "      <td>979.00</td>\n",
       "      <td>1997</td>\n",
       "      <td>83.61</td>\n",
       "      <td>799.000000</td>\n",
       "      <td>+90€</td>\n",
       "      <td>+90€</td>\n",
       "      <td>...</td>\n",
       "      <td>Groomed</td>\n",
       "      <td>Normale Qualität</td>\n",
       "      <td>Central Heating</td>\n",
       "      <td>Fernwärme Energieausweis liegt vor</td>\n",
       "      <td>liegt vor</td>\n",
       "      <td>Verbrauchsausweis Energie­ver­brauchs­kennwert...</td>\n",
       "      <td>NaN</td>\n",
       "      <td>NaN</td>\n",
       "      <td>2937.00</td>\n",
       "      <td>4</td>\n",
       "    </tr>\n",
       "    <tr>\n",
       "      <th>3</th>\n",
       "      <td>https://www.immobilienscout24.de/expose/116573177</td>\n",
       "      <td>Wilmersdorf</td>\n",
       "      <td>well_kept</td>\n",
       "      <td>4.0</td>\n",
       "      <td>1830.22</td>\n",
       "      <td>1900</td>\n",
       "      <td>171.18</td>\n",
       "      <td>428.261712</td>\n",
       "      <td>NaN</td>\n",
       "      <td>NaN</td>\n",
       "      <td>...</td>\n",
       "      <td>Unknown</td>\n",
       "      <td>NaN</td>\n",
       "      <td>Missing</td>\n",
       "      <td>NaN</td>\n",
       "      <td>NaN</td>\n",
       "      <td>NaN</td>\n",
       "      <td>NaN</td>\n",
       "      <td>NaN</td>\n",
       "      <td>5490.66</td>\n",
       "      <td>13</td>\n",
       "    </tr>\n",
       "    <tr>\n",
       "      <th>4</th>\n",
       "      <td>https://www.immobilienscout24.de/expose/115925878</td>\n",
       "      <td>Kreuzberg</td>\n",
       "      <td>first_time_use</td>\n",
       "      <td>2.0</td>\n",
       "      <td>2272.00</td>\n",
       "      <td>2020</td>\n",
       "      <td>88.27</td>\n",
       "      <td>531.635875</td>\n",
       "      <td>NaN</td>\n",
       "      <td>NaN</td>\n",
       "      <td>...</td>\n",
       "      <td>New</td>\n",
       "      <td>Gehobene Qualität</td>\n",
       "      <td>Central Heating</td>\n",
       "      <td>Fernwärme Energieausweis liegt zur Besichtigun...</td>\n",
       "      <td>liegt zur Besichtigung vor</td>\n",
       "      <td>NaN</td>\n",
       "      <td>NaN</td>\n",
       "      <td>NaN</td>\n",
       "      <td>6816.00</td>\n",
       "      <td>8</td>\n",
       "    </tr>\n",
       "  </tbody>\n",
       "</table>\n",
       "<p>5 rows × 23 columns</p>\n",
       "</div>"
      ],
      "text/plain": [
       "                                                 url       region  \\\n",
       "0  https://www.immobilienscout24.de/expose/116051687        Mitte   \n",
       "1  https://www.immobilienscout24.de/expose/115338103    Kreuzberg   \n",
       "2  https://www.immobilienscout24.de/expose/116458710     Köpenick   \n",
       "3  https://www.immobilienscout24.de/expose/116573177  Wilmersdorf   \n",
       "4  https://www.immobilienscout24.de/expose/115925878    Kreuzberg   \n",
       "\n",
       "        condition  rooms     rent  year_construction   space   cold_rent  \\\n",
       "0  first_time_use    4.0  2659.00               2019  117.20    2.200000   \n",
       "1  first_time_use    1.0  1200.00               2020   29.33  973.510000   \n",
       "2       well_kept    2.0   979.00               1997   83.61  799.000000   \n",
       "3       well_kept    4.0  1830.22               1900  171.18  428.261712   \n",
       "4  first_time_use    2.0  2272.00               2020   88.27  531.635875   \n",
       "\n",
       "  utilities heating_costs  ... property_condition         furnishing  \\\n",
       "0     +460€            in  ...                New                NaN   \n",
       "1  +226,49€            in  ...                New  Gehobene Qualität   \n",
       "2      +90€          +90€  ...            Groomed   Normale Qualität   \n",
       "3       NaN           NaN  ...            Unknown                NaN   \n",
       "4       NaN           NaN  ...                New  Gehobene Qualität   \n",
       "\n",
       "         heating_type                                     energy_sources  \\\n",
       "0  Underfloor Heating                                                NaN   \n",
       "1     Central Heating                 Fernwärme Energieausweis liegt vor   \n",
       "2     Central Heating                 Fernwärme Energieausweis liegt vor   \n",
       "3             Missing                                                NaN   \n",
       "4     Central Heating  Fernwärme Energieausweis liegt zur Besichtigun...   \n",
       "\n",
       "           energy_certificate  \\\n",
       "0                         NaN   \n",
       "1                   liegt vor   \n",
       "2                   liegt vor   \n",
       "3                         NaN   \n",
       "4  liegt zur Besichtigung vor   \n",
       "\n",
       "                                 type_of_certificate energy_requirement  \\\n",
       "0                                     Bedarfsausweis                NaN   \n",
       "1                                                NaN                NaN   \n",
       "2  Verbrauchsausweis Energie­ver­brauchs­kennwert...                NaN   \n",
       "3                                                NaN                NaN   \n",
       "4                                                NaN                NaN   \n",
       "\n",
       "  efficiency_class deposit_cleaned n_missing  \n",
       "0                B         7977.00         5  \n",
       "1              NaN         2920.53         5  \n",
       "2              NaN         2937.00         4  \n",
       "3              NaN         5490.66        13  \n",
       "4              NaN         6816.00         8  \n",
       "\n",
       "[5 rows x 23 columns]"
      ]
     },
     "execution_count": 41,
     "metadata": {},
     "output_type": "execute_result"
    }
   ],
   "source": [
    "df['heating_type']= df['heating_type'].fillna(\"Missing\")\n",
    "df.head()"
   ]
  },
  {
   "cell_type": "code",
   "execution_count": 42,
   "metadata": {},
   "outputs": [
    {
     "data": {
      "text/plain": [
       "0"
      ]
     },
     "execution_count": 42,
     "metadata": {},
     "output_type": "execute_result"
    }
   ],
   "source": [
    "df['heating_type'].isna().sum()"
   ]
  },
  {
   "cell_type": "code",
   "execution_count": 43,
   "metadata": {},
   "outputs": [
    {
     "data": {
      "text/plain": [
       "'Missing'"
      ]
     },
     "execution_count": 43,
     "metadata": {},
     "output_type": "execute_result"
    }
   ],
   "source": [
    "df['heating_type'].mode()[0]"
   ]
  },
  {
   "cell_type": "code",
   "execution_count": 13,
   "metadata": {},
   "outputs": [
    {
     "data": {
      "text/plain": [
       "Central Heating        450\n",
       "District Heating       149\n",
       "Underfloor Heating     127\n",
       "Floor Heating           24\n",
       "Gas Heating             10\n",
       "Wood Pellet Heating      2\n",
       "CHP Plants               2\n",
       "Name: heating_type, dtype: int64"
      ]
     },
     "execution_count": 13,
     "metadata": {},
     "output_type": "execute_result"
    }
   ],
   "source": [
    "# Method 2:\n",
    "df['heating_type'].fillna(df['heating_type'].mode()[0]).value_counts()"
   ]
  },
  {
   "cell_type": "markdown",
   "metadata": {
    "id": "RLAa7wgu4E0V"
   },
   "source": [
    "## 2. Clean: `renovated_date`\n",
    "\n",
    "Please explain why you choose your strategy for filling the missing values."
   ]
  },
  {
   "cell_type": "code",
   "execution_count": 44,
   "metadata": {},
   "outputs": [
    {
     "data": {
      "text/plain": [
       "0         NaN\n",
       "1         NaN\n",
       "2         NaN\n",
       "3         NaN\n",
       "4         NaN\n",
       "        ...  \n",
       "759       NaN\n",
       "760       NaN\n",
       "761       NaN\n",
       "762    2017.0\n",
       "763       NaN\n",
       "Name: renovated_date, Length: 764, dtype: float64"
      ]
     },
     "execution_count": 44,
     "metadata": {},
     "output_type": "execute_result"
    }
   ],
   "source": [
    "df['renovated_date']"
   ]
  },
  {
   "cell_type": "code",
   "execution_count": 45,
   "metadata": {
    "id": "HOpffadx-EhM"
   },
   "outputs": [
    {
     "data": {
      "text/plain": [
       "count     195.000000\n",
       "mean     2018.169231\n",
       "std         2.990893\n",
       "min      1995.000000\n",
       "25%      2019.000000\n",
       "50%      2019.000000\n",
       "75%      2019.000000\n",
       "max      2020.000000\n",
       "Name: renovated_date, dtype: float64"
      ]
     },
     "execution_count": 45,
     "metadata": {},
     "output_type": "execute_result"
    }
   ],
   "source": [
    "## code here\n",
    "df['renovated_date'].describe()"
   ]
  },
  {
   "cell_type": "code",
   "execution_count": 46,
   "metadata": {},
   "outputs": [
    {
     "data": {
      "text/plain": [
       "2019.0    121\n",
       "2020.0     26\n",
       "2016.0     13\n",
       "2017.0     12\n",
       "2018.0     11\n",
       "2015.0      4\n",
       "1995.0      2\n",
       "2011.0      2\n",
       "2014.0      1\n",
       "2012.0      1\n",
       "2010.0      1\n",
       "2006.0      1\n",
       "Name: renovated_date, dtype: int64"
      ]
     },
     "execution_count": 46,
     "metadata": {},
     "output_type": "execute_result"
    }
   ],
   "source": [
    "df['renovated_date'].value_counts()"
   ]
  },
  {
   "cell_type": "code",
   "execution_count": 47,
   "metadata": {},
   "outputs": [
    {
     "data": {
      "text/plain": [
       "0.7447643979057592"
      ]
     },
     "execution_count": 47,
     "metadata": {},
     "output_type": "execute_result"
    }
   ],
   "source": [
    "df['renovated_date'].isna().sum() / len(df)"
   ]
  },
  {
   "cell_type": "code",
   "execution_count": 48,
   "metadata": {},
   "outputs": [
    {
     "data": {
      "text/plain": [
       "569"
      ]
     },
     "execution_count": 48,
     "metadata": {},
     "output_type": "execute_result"
    }
   ],
   "source": [
    "df['renovated_date'].isna().sum()"
   ]
  },
  {
   "cell_type": "code",
   "execution_count": 49,
   "metadata": {
    "scrolled": true
   },
   "outputs": [
    {
     "data": {
      "text/plain": [
       "Unknown                 263\n",
       "New                     241\n",
       "Mint Condition          103\n",
       "Groomed                  65\n",
       "Refurbished              29\n",
       "After Renovation         26\n",
       "Completely Renovated     21\n",
       "Modernized               13\n",
       "Needs Renovation          2\n",
       "Well Maintained           1\n",
       "Name: property_condition, dtype: int64"
      ]
     },
     "execution_count": 49,
     "metadata": {},
     "output_type": "execute_result"
    }
   ],
   "source": [
    "df['property_condition'].value_counts()"
   ]
  },
  {
   "cell_type": "code",
   "execution_count": 50,
   "metadata": {
    "scrolled": true
   },
   "outputs": [
    {
     "data": {
      "text/plain": [
       "first_time_use                        270\n",
       "mint_condition                        143\n",
       "no_information                        111\n",
       "well_kept                              96\n",
       "refurbished                            40\n",
       "first_time_use_after_refurbishment     36\n",
       "fully_renovated                        35\n",
       "modernized                             29\n",
       "need_of_renovation                      4\n",
       "Name: condition, dtype: int64"
      ]
     },
     "execution_count": 50,
     "metadata": {},
     "output_type": "execute_result"
    }
   ],
   "source": [
    "df['condition'].value_counts()"
   ]
  },
  {
   "cell_type": "code",
   "execution_count": 54,
   "metadata": {},
   "outputs": [
    {
     "data": {
      "text/html": [
       "<div>\n",
       "<style scoped>\n",
       "    .dataframe tbody tr th:only-of-type {\n",
       "        vertical-align: middle;\n",
       "    }\n",
       "\n",
       "    .dataframe tbody tr th {\n",
       "        vertical-align: top;\n",
       "    }\n",
       "\n",
       "    .dataframe thead th {\n",
       "        text-align: right;\n",
       "    }\n",
       "</style>\n",
       "<table border=\"1\" class=\"dataframe\">\n",
       "  <thead>\n",
       "    <tr style=\"text-align: right;\">\n",
       "      <th></th>\n",
       "      <th>url</th>\n",
       "      <th>region</th>\n",
       "      <th>condition</th>\n",
       "      <th>rooms</th>\n",
       "      <th>rent</th>\n",
       "      <th>year_construction</th>\n",
       "      <th>space</th>\n",
       "      <th>cold_rent</th>\n",
       "      <th>utilities</th>\n",
       "      <th>heating_costs</th>\n",
       "      <th>...</th>\n",
       "      <th>property_condition</th>\n",
       "      <th>furnishing</th>\n",
       "      <th>heating_type</th>\n",
       "      <th>energy_sources</th>\n",
       "      <th>energy_certificate</th>\n",
       "      <th>type_of_certificate</th>\n",
       "      <th>energy_requirement</th>\n",
       "      <th>efficiency_class</th>\n",
       "      <th>deposit_cleaned</th>\n",
       "      <th>n_missing</th>\n",
       "    </tr>\n",
       "  </thead>\n",
       "  <tbody>\n",
       "    <tr>\n",
       "      <th>32</th>\n",
       "      <td>https://www.immobilienscout24.de/expose/115830685</td>\n",
       "      <td>Tiergarten</td>\n",
       "      <td>fully_renovated</td>\n",
       "      <td>3.0</td>\n",
       "      <td>2155.00</td>\n",
       "      <td>1990</td>\n",
       "      <td>101.15</td>\n",
       "      <td>504.258499</td>\n",
       "      <td>NaN</td>\n",
       "      <td>NaN</td>\n",
       "      <td>...</td>\n",
       "      <td>Completely Renovated</td>\n",
       "      <td>NaN</td>\n",
       "      <td>District Heating</td>\n",
       "      <td>Fernwärme-Dampf</td>\n",
       "      <td>NaN</td>\n",
       "      <td>Verbrauchsausweis End­energie­verbrauch 204,3 ...</td>\n",
       "      <td>NaN</td>\n",
       "      <td>NaN</td>\n",
       "      <td>6465.0</td>\n",
       "      <td>9</td>\n",
       "    </tr>\n",
       "    <tr>\n",
       "      <th>40</th>\n",
       "      <td>https://www.immobilienscout24.de/expose/114436473</td>\n",
       "      <td>Tiergarten</td>\n",
       "      <td>fully_renovated</td>\n",
       "      <td>4.0</td>\n",
       "      <td>2433.00</td>\n",
       "      <td>1998</td>\n",
       "      <td>120.64</td>\n",
       "      <td>569.309015</td>\n",
       "      <td>NaN</td>\n",
       "      <td>NaN</td>\n",
       "      <td>...</td>\n",
       "      <td>Completely Renovated</td>\n",
       "      <td>NaN</td>\n",
       "      <td>Central Heating</td>\n",
       "      <td>Öl</td>\n",
       "      <td>NaN</td>\n",
       "      <td>Verbrauchsausweis End­energie­verbrauch 218,2 ...</td>\n",
       "      <td>NaN</td>\n",
       "      <td>NaN</td>\n",
       "      <td>7299.0</td>\n",
       "      <td>9</td>\n",
       "    </tr>\n",
       "    <tr>\n",
       "      <th>41</th>\n",
       "      <td>https://www.immobilienscout24.de/expose/115205242</td>\n",
       "      <td>Tiergarten</td>\n",
       "      <td>fully_renovated</td>\n",
       "      <td>4.0</td>\n",
       "      <td>3275.00</td>\n",
       "      <td>1990</td>\n",
       "      <td>156.68</td>\n",
       "      <td>766.332522</td>\n",
       "      <td>NaN</td>\n",
       "      <td>NaN</td>\n",
       "      <td>...</td>\n",
       "      <td>Completely Renovated</td>\n",
       "      <td>NaN</td>\n",
       "      <td>District Heating</td>\n",
       "      <td>Fernwärme-Dampf</td>\n",
       "      <td>NaN</td>\n",
       "      <td>Verbrauchsausweis End­energie­verbrauch 204,3 ...</td>\n",
       "      <td>NaN</td>\n",
       "      <td>G</td>\n",
       "      <td>9825.0</td>\n",
       "      <td>8</td>\n",
       "    </tr>\n",
       "    <tr>\n",
       "      <th>51</th>\n",
       "      <td>https://www.immobilienscout24.de/expose/115759449</td>\n",
       "      <td>Prenzlauer</td>\n",
       "      <td>first_time_use_after_refurbishment</td>\n",
       "      <td>2.0</td>\n",
       "      <td>2724.17</td>\n",
       "      <td>1918</td>\n",
       "      <td>135.68</td>\n",
       "      <td>2.300000</td>\n",
       "      <td>+434,17€</td>\n",
       "      <td>in</td>\n",
       "      <td>...</td>\n",
       "      <td>After Renovation</td>\n",
       "      <td>Luxus</td>\n",
       "      <td>Central Heating</td>\n",
       "      <td>Gas</td>\n",
       "      <td>NaN</td>\n",
       "      <td>Verbrauchsausweis Energie­ver­brauchs­kennwert...</td>\n",
       "      <td>NaN</td>\n",
       "      <td>NaN</td>\n",
       "      <td>6900.0</td>\n",
       "      <td>4</td>\n",
       "    </tr>\n",
       "    <tr>\n",
       "      <th>53</th>\n",
       "      <td>https://www.immobilienscout24.de/expose/113389306</td>\n",
       "      <td>Charlottenburg</td>\n",
       "      <td>fully_renovated</td>\n",
       "      <td>5.0</td>\n",
       "      <td>3195.00</td>\n",
       "      <td>1905</td>\n",
       "      <td>170.00</td>\n",
       "      <td>2.490000</td>\n",
       "      <td>+330€</td>\n",
       "      <td>nicht</td>\n",
       "      <td>...</td>\n",
       "      <td>Completely Renovated</td>\n",
       "      <td>Luxus</td>\n",
       "      <td>Floor Heating</td>\n",
       "      <td>Gas Energieausweis laut Gesetz nicht erforderlich</td>\n",
       "      <td>laut Gesetz nicht erforderlich</td>\n",
       "      <td>NaN</td>\n",
       "      <td>NaN</td>\n",
       "      <td>NaN</td>\n",
       "      <td>6000.0</td>\n",
       "      <td>4</td>\n",
       "    </tr>\n",
       "    <tr>\n",
       "      <th>...</th>\n",
       "      <td>...</td>\n",
       "      <td>...</td>\n",
       "      <td>...</td>\n",
       "      <td>...</td>\n",
       "      <td>...</td>\n",
       "      <td>...</td>\n",
       "      <td>...</td>\n",
       "      <td>...</td>\n",
       "      <td>...</td>\n",
       "      <td>...</td>\n",
       "      <td>...</td>\n",
       "      <td>...</td>\n",
       "      <td>...</td>\n",
       "      <td>...</td>\n",
       "      <td>...</td>\n",
       "      <td>...</td>\n",
       "      <td>...</td>\n",
       "      <td>...</td>\n",
       "      <td>...</td>\n",
       "      <td>...</td>\n",
       "      <td>...</td>\n",
       "    </tr>\n",
       "    <tr>\n",
       "      <th>706</th>\n",
       "      <td>https://www.immobilienscout24.de/expose/112428115</td>\n",
       "      <td>Tiergarten</td>\n",
       "      <td>fully_renovated</td>\n",
       "      <td>3.0</td>\n",
       "      <td>2555.00</td>\n",
       "      <td>1998</td>\n",
       "      <td>125.46</td>\n",
       "      <td>597.856364</td>\n",
       "      <td>NaN</td>\n",
       "      <td>NaN</td>\n",
       "      <td>...</td>\n",
       "      <td>Completely Renovated</td>\n",
       "      <td>NaN</td>\n",
       "      <td>District Heating</td>\n",
       "      <td>Fernwärme-Dampf</td>\n",
       "      <td>NaN</td>\n",
       "      <td>Verbrauchsausweis End­energie­verbrauch 204,3 ...</td>\n",
       "      <td>NaN</td>\n",
       "      <td>NaN</td>\n",
       "      <td>7665.0</td>\n",
       "      <td>9</td>\n",
       "    </tr>\n",
       "    <tr>\n",
       "      <th>709</th>\n",
       "      <td>https://www.immobilienscout24.de/expose/111459473</td>\n",
       "      <td>Prenzlauer</td>\n",
       "      <td>refurbished</td>\n",
       "      <td>1.0</td>\n",
       "      <td>869.00</td>\n",
       "      <td>1903</td>\n",
       "      <td>30.00</td>\n",
       "      <td>819.000000</td>\n",
       "      <td>+40€</td>\n",
       "      <td>in</td>\n",
       "      <td>...</td>\n",
       "      <td>Refurbished</td>\n",
       "      <td>Luxus</td>\n",
       "      <td>Central Heating</td>\n",
       "      <td>Gas Energieausweis liegt vor</td>\n",
       "      <td>liegt vor</td>\n",
       "      <td>Verbrauchsausweis Energie­ver­brauchs­kennwert...</td>\n",
       "      <td>NaN</td>\n",
       "      <td>NaN</td>\n",
       "      <td>2000.0</td>\n",
       "      <td>3</td>\n",
       "    </tr>\n",
       "    <tr>\n",
       "      <th>719</th>\n",
       "      <td>https://www.immobilienscout24.de/expose/109861401</td>\n",
       "      <td>Tiergarten</td>\n",
       "      <td>refurbished</td>\n",
       "      <td>1.0</td>\n",
       "      <td>660.00</td>\n",
       "      <td>1904</td>\n",
       "      <td>25.00</td>\n",
       "      <td>154.436478</td>\n",
       "      <td>NaN</td>\n",
       "      <td>NaN</td>\n",
       "      <td>...</td>\n",
       "      <td>Unknown</td>\n",
       "      <td>NaN</td>\n",
       "      <td>Missing</td>\n",
       "      <td>NaN</td>\n",
       "      <td>NaN</td>\n",
       "      <td>NaN</td>\n",
       "      <td>NaN</td>\n",
       "      <td>NaN</td>\n",
       "      <td>1980.0</td>\n",
       "      <td>13</td>\n",
       "    </tr>\n",
       "    <tr>\n",
       "      <th>744</th>\n",
       "      <td>https://www.immobilienscout24.de/expose/105930730</td>\n",
       "      <td>Prenzlauer</td>\n",
       "      <td>fully_renovated</td>\n",
       "      <td>2.0</td>\n",
       "      <td>1366.00</td>\n",
       "      <td>1996</td>\n",
       "      <td>46.00</td>\n",
       "      <td>319.636710</td>\n",
       "      <td>NaN</td>\n",
       "      <td>NaN</td>\n",
       "      <td>...</td>\n",
       "      <td>Unknown</td>\n",
       "      <td>NaN</td>\n",
       "      <td>Missing</td>\n",
       "      <td>NaN</td>\n",
       "      <td>NaN</td>\n",
       "      <td>NaN</td>\n",
       "      <td>NaN</td>\n",
       "      <td>NaN</td>\n",
       "      <td>4098.0</td>\n",
       "      <td>13</td>\n",
       "    </tr>\n",
       "    <tr>\n",
       "      <th>763</th>\n",
       "      <td>https://www.immobilienscout24.de/expose/99320272</td>\n",
       "      <td>Neukölln</td>\n",
       "      <td>fully_renovated</td>\n",
       "      <td>2.0</td>\n",
       "      <td>888.00</td>\n",
       "      <td>1990</td>\n",
       "      <td>68.48</td>\n",
       "      <td>207.787261</td>\n",
       "      <td>NaN</td>\n",
       "      <td>NaN</td>\n",
       "      <td>...</td>\n",
       "      <td>Unknown</td>\n",
       "      <td>NaN</td>\n",
       "      <td>Missing</td>\n",
       "      <td>NaN</td>\n",
       "      <td>NaN</td>\n",
       "      <td>NaN</td>\n",
       "      <td>NaN</td>\n",
       "      <td>NaN</td>\n",
       "      <td>2664.0</td>\n",
       "      <td>13</td>\n",
       "    </tr>\n",
       "  </tbody>\n",
       "</table>\n",
       "<p>111 rows × 23 columns</p>\n",
       "</div>"
      ],
      "text/plain": [
       "                                                   url          region  \\\n",
       "32   https://www.immobilienscout24.de/expose/115830685      Tiergarten   \n",
       "40   https://www.immobilienscout24.de/expose/114436473      Tiergarten   \n",
       "41   https://www.immobilienscout24.de/expose/115205242      Tiergarten   \n",
       "51   https://www.immobilienscout24.de/expose/115759449      Prenzlauer   \n",
       "53   https://www.immobilienscout24.de/expose/113389306  Charlottenburg   \n",
       "..                                                 ...             ...   \n",
       "706  https://www.immobilienscout24.de/expose/112428115      Tiergarten   \n",
       "709  https://www.immobilienscout24.de/expose/111459473      Prenzlauer   \n",
       "719  https://www.immobilienscout24.de/expose/109861401      Tiergarten   \n",
       "744  https://www.immobilienscout24.de/expose/105930730      Prenzlauer   \n",
       "763   https://www.immobilienscout24.de/expose/99320272        Neukölln   \n",
       "\n",
       "                              condition  rooms     rent  year_construction  \\\n",
       "32                      fully_renovated    3.0  2155.00               1990   \n",
       "40                      fully_renovated    4.0  2433.00               1998   \n",
       "41                      fully_renovated    4.0  3275.00               1990   \n",
       "51   first_time_use_after_refurbishment    2.0  2724.17               1918   \n",
       "53                      fully_renovated    5.0  3195.00               1905   \n",
       "..                                  ...    ...      ...                ...   \n",
       "706                     fully_renovated    3.0  2555.00               1998   \n",
       "709                         refurbished    1.0   869.00               1903   \n",
       "719                         refurbished    1.0   660.00               1904   \n",
       "744                     fully_renovated    2.0  1366.00               1996   \n",
       "763                     fully_renovated    2.0   888.00               1990   \n",
       "\n",
       "      space   cold_rent utilities heating_costs  ...    property_condition  \\\n",
       "32   101.15  504.258499       NaN           NaN  ...  Completely Renovated   \n",
       "40   120.64  569.309015       NaN           NaN  ...  Completely Renovated   \n",
       "41   156.68  766.332522       NaN           NaN  ...  Completely Renovated   \n",
       "51   135.68    2.300000  +434,17€            in  ...      After Renovation   \n",
       "53   170.00    2.490000     +330€         nicht  ...  Completely Renovated   \n",
       "..      ...         ...       ...           ...  ...                   ...   \n",
       "706  125.46  597.856364       NaN           NaN  ...  Completely Renovated   \n",
       "709   30.00  819.000000      +40€            in  ...           Refurbished   \n",
       "719   25.00  154.436478       NaN           NaN  ...               Unknown   \n",
       "744   46.00  319.636710       NaN           NaN  ...               Unknown   \n",
       "763   68.48  207.787261       NaN           NaN  ...               Unknown   \n",
       "\n",
       "    furnishing      heating_type  \\\n",
       "32         NaN  District Heating   \n",
       "40         NaN   Central Heating   \n",
       "41         NaN  District Heating   \n",
       "51       Luxus   Central Heating   \n",
       "53       Luxus     Floor Heating   \n",
       "..         ...               ...   \n",
       "706        NaN  District Heating   \n",
       "709      Luxus   Central Heating   \n",
       "719        NaN           Missing   \n",
       "744        NaN           Missing   \n",
       "763        NaN           Missing   \n",
       "\n",
       "                                        energy_sources  \\\n",
       "32                                     Fernwärme-Dampf   \n",
       "40                                                  Öl   \n",
       "41                                     Fernwärme-Dampf   \n",
       "51                                                 Gas   \n",
       "53   Gas Energieausweis laut Gesetz nicht erforderlich   \n",
       "..                                                 ...   \n",
       "706                                    Fernwärme-Dampf   \n",
       "709                       Gas Energieausweis liegt vor   \n",
       "719                                                NaN   \n",
       "744                                                NaN   \n",
       "763                                                NaN   \n",
       "\n",
       "                 energy_certificate  \\\n",
       "32                              NaN   \n",
       "40                              NaN   \n",
       "41                              NaN   \n",
       "51                              NaN   \n",
       "53   laut Gesetz nicht erforderlich   \n",
       "..                              ...   \n",
       "706                             NaN   \n",
       "709                       liegt vor   \n",
       "719                             NaN   \n",
       "744                             NaN   \n",
       "763                             NaN   \n",
       "\n",
       "                                   type_of_certificate energy_requirement  \\\n",
       "32   Verbrauchsausweis End­energie­verbrauch 204,3 ...                NaN   \n",
       "40   Verbrauchsausweis End­energie­verbrauch 218,2 ...                NaN   \n",
       "41   Verbrauchsausweis End­energie­verbrauch 204,3 ...                NaN   \n",
       "51   Verbrauchsausweis Energie­ver­brauchs­kennwert...                NaN   \n",
       "53                                                 NaN                NaN   \n",
       "..                                                 ...                ...   \n",
       "706  Verbrauchsausweis End­energie­verbrauch 204,3 ...                NaN   \n",
       "709  Verbrauchsausweis Energie­ver­brauchs­kennwert...                NaN   \n",
       "719                                                NaN                NaN   \n",
       "744                                                NaN                NaN   \n",
       "763                                                NaN                NaN   \n",
       "\n",
       "    efficiency_class deposit_cleaned n_missing  \n",
       "32               NaN          6465.0         9  \n",
       "40               NaN          7299.0         9  \n",
       "41                 G          9825.0         8  \n",
       "51               NaN          6900.0         4  \n",
       "53               NaN          6000.0         4  \n",
       "..               ...             ...       ...  \n",
       "706              NaN          7665.0         9  \n",
       "709              NaN          2000.0         3  \n",
       "719              NaN          1980.0        13  \n",
       "744              NaN          4098.0        13  \n",
       "763              NaN          2664.0        13  \n",
       "\n",
       "[111 rows x 23 columns]"
      ]
     },
     "execution_count": 54,
     "metadata": {},
     "output_type": "execute_result"
    }
   ],
   "source": [
    "df_ren = df[df['condition'].isin(['refurbished','first_time_use_after_refurbishment','fully_renovated'])]\n",
    "df_ren"
   ]
  },
  {
   "cell_type": "code",
   "execution_count": 56,
   "metadata": {
    "scrolled": false
   },
   "outputs": [
    {
     "name": "stderr",
     "output_type": "stream",
     "text": [
      "C:\\Users\\elsher\\AppData\\Local\\Temp\\ipykernel_19760\\2352238263.py:1: SettingWithCopyWarning: \n",
      "A value is trying to be set on a copy of a slice from a DataFrame.\n",
      "Try using .loc[row_indexer,col_indexer] = value instead\n",
      "\n",
      "See the caveats in the documentation: https://pandas.pydata.org/pandas-docs/stable/user_guide/indexing.html#returning-a-view-versus-a-copy\n",
      "  df_ren['Renovation_age'] = df_ren['renovated_date'] - df_ren['year_construction']\n"
     ]
    },
    {
     "data": {
      "text/plain": [
       "count     38.000000\n",
       "mean      89.394737\n",
       "std       57.562441\n",
       "min        0.000000\n",
       "25%       29.000000\n",
       "50%      113.500000\n",
       "75%      134.000000\n",
       "max      155.000000\n",
       "Name: Renovation_age, dtype: float64"
      ]
     },
     "execution_count": 56,
     "metadata": {},
     "output_type": "execute_result"
    }
   ],
   "source": [
    "df_ren['Renovation_age'] = df_ren['renovated_date'] - df_ren['year_construction']\n",
    "df_ren['Renovation_age'].describe()"
   ]
  },
  {
   "cell_type": "code",
   "execution_count": 60,
   "metadata": {
    "scrolled": true
   },
   "outputs": [
    {
     "data": {
      "text/html": [
       "<div>\n",
       "<style scoped>\n",
       "    .dataframe tbody tr th:only-of-type {\n",
       "        vertical-align: middle;\n",
       "    }\n",
       "\n",
       "    .dataframe tbody tr th {\n",
       "        vertical-align: top;\n",
       "    }\n",
       "\n",
       "    .dataframe thead th {\n",
       "        text-align: right;\n",
       "    }\n",
       "</style>\n",
       "<table border=\"1\" class=\"dataframe\">\n",
       "  <thead>\n",
       "    <tr style=\"text-align: right;\">\n",
       "      <th></th>\n",
       "      <th>year_construction</th>\n",
       "      <th>renovated_date</th>\n",
       "      <th>condition</th>\n",
       "    </tr>\n",
       "  </thead>\n",
       "  <tbody>\n",
       "    <tr>\n",
       "      <th>78</th>\n",
       "      <td>2015</td>\n",
       "      <td>2015.0</td>\n",
       "      <td>fully_renovated</td>\n",
       "    </tr>\n",
       "    <tr>\n",
       "      <th>156</th>\n",
       "      <td>2016</td>\n",
       "      <td>2016.0</td>\n",
       "      <td>fully_renovated</td>\n",
       "    </tr>\n",
       "    <tr>\n",
       "      <th>223</th>\n",
       "      <td>2019</td>\n",
       "      <td>2019.0</td>\n",
       "      <td>first_time_use_after_refurbishment</td>\n",
       "    </tr>\n",
       "    <tr>\n",
       "      <th>386</th>\n",
       "      <td>2020</td>\n",
       "      <td>2020.0</td>\n",
       "      <td>first_time_use_after_refurbishment</td>\n",
       "    </tr>\n",
       "    <tr>\n",
       "      <th>526</th>\n",
       "      <td>2019</td>\n",
       "      <td>2019.0</td>\n",
       "      <td>refurbished</td>\n",
       "    </tr>\n",
       "  </tbody>\n",
       "</table>\n",
       "</div>"
      ],
      "text/plain": [
       "     year_construction  renovated_date                           condition\n",
       "78                2015          2015.0                     fully_renovated\n",
       "156               2016          2016.0                     fully_renovated\n",
       "223               2019          2019.0  first_time_use_after_refurbishment\n",
       "386               2020          2020.0  first_time_use_after_refurbishment\n",
       "526               2019          2019.0                         refurbished"
      ]
     },
     "execution_count": 60,
     "metadata": {},
     "output_type": "execute_result"
    }
   ],
   "source": [
    "df_ren[df_ren['Renovation_age']==0][['year_construction','renovated_date','condition']]"
   ]
  },
  {
   "cell_type": "code",
   "execution_count": 68,
   "metadata": {},
   "outputs": [],
   "source": [
    "mean_ren_age = round(df_ren['Renovation_age'].mean())"
   ]
  },
  {
   "cell_type": "code",
   "execution_count": 69,
   "metadata": {},
   "outputs": [],
   "source": [
    "df.loc[(df['condition'].isin(['refurbished','first_time_use_after_refurbishment','fully_renovated']))&(df['renovated_date'].isna()),'renovated_date'] = df['year_construction']+mean_ren_age"
   ]
  },
  {
   "cell_type": "code",
   "execution_count": 70,
   "metadata": {},
   "outputs": [
    {
     "data": {
      "text/html": [
       "<div>\n",
       "<style scoped>\n",
       "    .dataframe tbody tr th:only-of-type {\n",
       "        vertical-align: middle;\n",
       "    }\n",
       "\n",
       "    .dataframe tbody tr th {\n",
       "        vertical-align: top;\n",
       "    }\n",
       "\n",
       "    .dataframe thead th {\n",
       "        text-align: right;\n",
       "    }\n",
       "</style>\n",
       "<table border=\"1\" class=\"dataframe\">\n",
       "  <thead>\n",
       "    <tr style=\"text-align: right;\">\n",
       "      <th></th>\n",
       "      <th>url</th>\n",
       "      <th>region</th>\n",
       "      <th>condition</th>\n",
       "      <th>rooms</th>\n",
       "      <th>rent</th>\n",
       "      <th>year_construction</th>\n",
       "      <th>space</th>\n",
       "      <th>cold_rent</th>\n",
       "      <th>utilities</th>\n",
       "      <th>heating_costs</th>\n",
       "      <th>...</th>\n",
       "      <th>property_condition</th>\n",
       "      <th>furnishing</th>\n",
       "      <th>heating_type</th>\n",
       "      <th>energy_sources</th>\n",
       "      <th>energy_certificate</th>\n",
       "      <th>type_of_certificate</th>\n",
       "      <th>energy_requirement</th>\n",
       "      <th>efficiency_class</th>\n",
       "      <th>deposit_cleaned</th>\n",
       "      <th>n_missing</th>\n",
       "    </tr>\n",
       "  </thead>\n",
       "  <tbody>\n",
       "  </tbody>\n",
       "</table>\n",
       "<p>0 rows × 23 columns</p>\n",
       "</div>"
      ],
      "text/plain": [
       "Empty DataFrame\n",
       "Columns: [url, region, condition, rooms, rent, year_construction, space, cold_rent, utilities, heating_costs, security_deposit, parking_space, renovated_date, property_condition, furnishing, heating_type, energy_sources, energy_certificate, type_of_certificate, energy_requirement, efficiency_class, deposit_cleaned, n_missing]\n",
       "Index: []\n",
       "\n",
       "[0 rows x 23 columns]"
      ]
     },
     "execution_count": 70,
     "metadata": {},
     "output_type": "execute_result"
    }
   ],
   "source": [
    "df[(df['condition'].isin(['refurbished','first_time_use_after_refurbishment','fully_renovated']))&(df['renovated_date'].isna())]"
   ]
  },
  {
   "cell_type": "code",
   "execution_count": null,
   "metadata": {},
   "outputs": [],
   "source": [
    "# For the renovated houses we fill th emissing renovated day using the mediam years of renovation for existing data\n",
    "# We can use for this property condition column or condition column\n",
    "\n",
    "df_ren = df[df['condition'].isin(['fully_renovated','first_time_use_after_refurbishment','refurbished'])]\n",
    "df_ren['Renovation_age'] = df_ren['renovated_date'] - df_ren['year_construction']\n",
    "median_ren_age = df_ren[~df_ren['renovated_date'].isna()]['Renovation_age'].median()\n",
    "median_ren_age"
   ]
  },
  {
   "cell_type": "code",
   "execution_count": 71,
   "metadata": {},
   "outputs": [],
   "source": [
    "# For not renovated houses, we can add the year of construction to say that no renovation happened to the house\n",
    "# df.loc[df['renovated_date'].isna(),'renovated_date'] = df['year_construction']\n",
    "df.loc[df['renovated_date'].isna(),'renovated_date'] = 2100"
   ]
  },
  {
   "cell_type": "code",
   "execution_count": 72,
   "metadata": {},
   "outputs": [
    {
     "data": {
      "text/plain": [
       "0"
      ]
     },
     "execution_count": 72,
     "metadata": {},
     "output_type": "execute_result"
    }
   ],
   "source": [
    "df['renovated_date'].isna().sum()"
   ]
  },
  {
   "cell_type": "markdown",
   "metadata": {
    "id": "BMqdgnI3Y7BN"
   },
   "source": [
    "## 3. Clean: `parking_space`\n",
    "\n",
    "Please explain why you choose your strategy for filling the missing values."
   ]
  },
  {
   "cell_type": "code",
   "execution_count": 74,
   "metadata": {
    "id": "PjMfP4MvY5Fr"
   },
   "outputs": [
    {
     "data": {
      "text/plain": [
       "0.8821989528795812"
      ]
     },
     "execution_count": 74,
     "metadata": {},
     "output_type": "execute_result"
    }
   ],
   "source": [
    "## code here\n",
    "df['parking_space'].isna().sum() / len(df)"
   ]
  },
  {
   "cell_type": "code",
   "execution_count": 75,
   "metadata": {},
   "outputs": [
    {
     "data": {
      "text/plain": [
       "120€      20\n",
       "150€      18\n",
       "100€      14\n",
       "130€       5\n",
       "90€        5\n",
       "350€       5\n",
       "0€         4\n",
       "280€       3\n",
       "75€        2\n",
       "220€       2\n",
       "200€       2\n",
       "119€       1\n",
       "149€       1\n",
       "166,6€     1\n",
       "60€        1\n",
       "145€       1\n",
       "180€       1\n",
       "250€       1\n",
       "110€       1\n",
       "70€        1\n",
       "140€       1\n",
       "Name: parking_space, dtype: int64"
      ]
     },
     "execution_count": 75,
     "metadata": {},
     "output_type": "execute_result"
    }
   ],
   "source": [
    "df['parking_space'].value_counts()"
   ]
  },
  {
   "cell_type": "code",
   "execution_count": 76,
   "metadata": {},
   "outputs": [],
   "source": [
    "def remove_strings(value, strings_to_remove):\n",
    "    \"\"\"\n",
    "    Remove strings in <strings_to_remove> from <value>. \n",
    "    Removes Euro/euro strings by default. \n",
    "    Assumes that each string occurs only once.\n",
    "    \"\"\"\n",
    "    \n",
    "    # return NaN if value is missing\n",
    "    if pd.isna(value): return np.nan\n",
    "    \n",
    "    # cast to string so that string methods work\n",
    "    value = str(value)\n",
    "    \n",
    "    # remove different strings\n",
    "    for string in strings_to_remove:\n",
    "        value = value.lower().replace(string, '').strip()\n",
    "    \n",
    "    return value"
   ]
  },
  {
   "cell_type": "code",
   "execution_count": 77,
   "metadata": {},
   "outputs": [],
   "source": [
    "def convert_string_to_float(value):\n",
    "    \"\"\"Replace a period with empty stringm and comma with period (decimal point).\"\"\"\n",
    "    return value.replace(\".\", \"\").replace(\",\", \".\")\n",
    "\n",
    "\n",
    "def convert_decimal(value):\n",
    "    \"\"\"Convert numeric string to a decimal number.\"\"\"\n",
    "    \n",
    "    # return NaN if missing\n",
    "    if pd.isna(value):\n",
    "        return np.nan       \n",
    "    \n",
    "    # check if wrong format w/o decimal i.e. 3.500\n",
    "    if len(value.split('.')[-1]) == 3:\n",
    "        return convert_string_to_float(value)\n",
    "    \n",
    "    # convert to float\n",
    "    try:                               \n",
    "        return float(value)\n",
    "    except:\n",
    "        return convert_string_to_float(value)"
   ]
  },
  {
   "cell_type": "code",
   "execution_count": 78,
   "metadata": {},
   "outputs": [],
   "source": [
    "df['parking_space'] = df.parking_space.apply(remove_strings, args=(['€'],)).astype(str)"
   ]
  },
  {
   "cell_type": "code",
   "execution_count": 79,
   "metadata": {
    "scrolled": true
   },
   "outputs": [
    {
     "data": {
      "text/plain": [
       "nan      674\n",
       "120       20\n",
       "150       18\n",
       "100       14\n",
       "130        5\n",
       "90         5\n",
       "350        5\n",
       "0          4\n",
       "280        3\n",
       "200        2\n",
       "75         2\n",
       "220        2\n",
       "119        1\n",
       "149        1\n",
       "250        1\n",
       "145        1\n",
       "180        1\n",
       "110        1\n",
       "70         1\n",
       "140        1\n",
       "166,6      1\n",
       "60         1\n",
       "Name: parking_space, dtype: int64"
      ]
     },
     "execution_count": 79,
     "metadata": {},
     "output_type": "execute_result"
    }
   ],
   "source": [
    "df['parking_space'].value_counts()"
   ]
  },
  {
   "cell_type": "code",
   "execution_count": 80,
   "metadata": {},
   "outputs": [],
   "source": [
    "df['parking_space'] = df.parking_space.apply(convert_decimal)\n",
    "df['parking_space'] = df['parking_space'].astype(float) "
   ]
  },
  {
   "cell_type": "code",
   "execution_count": 81,
   "metadata": {
    "scrolled": true
   },
   "outputs": [
    {
     "data": {
      "text/plain": [
       "count     90.000000\n",
       "mean     139.662222\n",
       "std       71.774795\n",
       "min        0.000000\n",
       "25%      100.000000\n",
       "50%      120.000000\n",
       "75%      150.000000\n",
       "max      350.000000\n",
       "Name: parking_space, dtype: float64"
      ]
     },
     "execution_count": 81,
     "metadata": {},
     "output_type": "execute_result"
    }
   ],
   "source": [
    "df['parking_space'].describe()"
   ]
  },
  {
   "cell_type": "code",
   "execution_count": 83,
   "metadata": {},
   "outputs": [
    {
     "data": {
      "text/plain": [
       "0.0718282746188459"
      ]
     },
     "execution_count": 83,
     "metadata": {},
     "output_type": "execute_result"
    }
   ],
   "source": [
    "(df['parking_space']/df['rent']).mean()"
   ]
  },
  {
   "cell_type": "code",
   "execution_count": 84,
   "metadata": {},
   "outputs": [],
   "source": [
    "def fill_missing_parking_space(row):\n",
    "    park_per_rent=(df['parking_space']/df['rent']).mean()\n",
    "    # if the value isn't missing, return the value\n",
    "    if not pd.isna(row.parking_space):\n",
    "        return float(row.parking_space)\n",
    "    else:\n",
    "        return row.rent * park_per_rent"
   ]
  },
  {
   "cell_type": "code",
   "execution_count": 85,
   "metadata": {},
   "outputs": [
    {
     "data": {
      "text/plain": [
       "count     764.000000\n",
       "mean      125.153404\n",
       "std        79.824642\n",
       "min         0.000000\n",
       "25%        74.036994\n",
       "50%       111.333826\n",
       "75%       151.263702\n",
       "max      1020.464298\n",
       "dtype: float64"
      ]
     },
     "execution_count": 85,
     "metadata": {},
     "output_type": "execute_result"
    }
   ],
   "source": [
    "# Fill with percentage from rent\n",
    "\n",
    "df.apply(fill_missing_parking_space, axis=1).describe()"
   ]
  },
  {
   "cell_type": "code",
   "execution_count": 86,
   "metadata": {},
   "outputs": [
    {
     "data": {
      "text/plain": [
       "count    764.000000\n",
       "mean     139.662222\n",
       "std       24.513465\n",
       "min        0.000000\n",
       "25%      139.662222\n",
       "50%      139.662222\n",
       "75%      139.662222\n",
       "max      350.000000\n",
       "Name: parking_space, dtype: float64"
      ]
     },
     "execution_count": 86,
     "metadata": {},
     "output_type": "execute_result"
    }
   ],
   "source": [
    "# fill missing values by mean \n",
    "df['parking_space'].fillna(df['parking_space'].mean()).describe()"
   ]
  },
  {
   "cell_type": "code",
   "execution_count": 87,
   "metadata": {},
   "outputs": [
    {
     "data": {
      "text/plain": [
       "count    764.000000\n",
       "mean     122.316230\n",
       "std       25.320741\n",
       "min        0.000000\n",
       "25%      120.000000\n",
       "50%      120.000000\n",
       "75%      120.000000\n",
       "max      350.000000\n",
       "Name: parking_space, dtype: float64"
      ]
     },
     "execution_count": 87,
     "metadata": {},
     "output_type": "execute_result"
    }
   ],
   "source": [
    "# fill missing values by median \n",
    "df['parking_space'].fillna(df['parking_space'].median()).describe()"
   ]
  },
  {
   "cell_type": "markdown",
   "metadata": {
    "id": "d-FJavHVZM16"
   },
   "source": [
    "## 4. Clean: `utilities`\n",
    "\n",
    "Please explain why you choose your strategy for filling the missing values."
   ]
  },
  {
   "cell_type": "code",
   "execution_count": 88,
   "metadata": {
    "id": "1gCHzQ5JY5IS"
   },
   "outputs": [
    {
     "data": {
      "text/plain": [
       "0.4424083769633508"
      ]
     },
     "execution_count": 88,
     "metadata": {},
     "output_type": "execute_result"
    }
   ],
   "source": [
    "## code here\n",
    "df['utilities'].isna().sum() / len(df)"
   ]
  },
  {
   "cell_type": "code",
   "execution_count": 89,
   "metadata": {},
   "outputs": [
    {
     "data": {
      "text/plain": [
       "+250€       16\n",
       "+200€       14\n",
       "+120€       10\n",
       "keine        9\n",
       "+350€        7\n",
       "            ..\n",
       "+225,98€     1\n",
       "+245,30€     1\n",
       "+217,19€     1\n",
       "+127,04€     1\n",
       "+130,80€     1\n",
       "Name: utilities, Length: 261, dtype: int64"
      ]
     },
     "execution_count": 89,
     "metadata": {},
     "output_type": "execute_result"
    }
   ],
   "source": [
    "df['utilities'].value_counts()"
   ]
  },
  {
   "cell_type": "code",
   "execution_count": 90,
   "metadata": {},
   "outputs": [],
   "source": [
    "df['utilities'] = df.utilities.apply(remove_strings, args=(['+','€'],)).astype(str)\n",
    "df['utilities'] = df.utilities.apply(convert_decimal)\n"
   ]
  },
  {
   "cell_type": "code",
   "execution_count": 91,
   "metadata": {},
   "outputs": [
    {
     "data": {
      "text/plain": [
       "array(['460', '226.49', 90.0, 'nan', '110', '255', '500', '250', '750',\n",
       "       '133.30', '225.84', '164.09', '170', '98.38', '380', '294',\n",
       "       '453.60', '235', 'keine', '150', '120', 40.0, '426.84', '225',\n",
       "       '137.04', '164.74', 85.0, '434.17', '253', '330', '322', '320',\n",
       "       '135', '311.90', '675', '580', '230', '300', '645', '200',\n",
       "       '151.71', '180', '400', '190', 0.0, '174', '212', '270', '378.10',\n",
       "       '477', '579', '265', '160', 65.0, '315.21', '232.40', '165', 91.0,\n",
       "       '307', '97.76', '111.75', '545', '130.80', '256', '284', '258.88',\n",
       "       '189', '233', '280', 80.0, 60.0, 70.0, '145', '100', '227.73',\n",
       "       '195', '163', '80.07', '201', 68.0, '209', '222', '247', '242.10',\n",
       "       '298.14', '240', '157.84', '211.75', '214.20', '415', '350',\n",
       "       '127.04', '290', '274.65', '550', '760', '198', '345.30', '312.32',\n",
       "       '224.34', '352.80', '351.90', '169.26', '180.30', '277', '183',\n",
       "       '600', 75.0, '140', '392.15', '262.16', '304', '328', '205',\n",
       "       '408.86', '130', '200.13', '560', '249', '410', '356', '1026.50',\n",
       "       '210', 93.0, '295', '121', '310', '408', '370', '113.06', '125',\n",
       "       '275', 1.0, '185', '194.42', '296', '454', '115.88', '162',\n",
       "       '66.47', '158', '80.52', '213', '149', '153', '570', '394.49',\n",
       "       '289.10', '372.26', '133.62', '230.05', '131.10', '191', '121.49',\n",
       "       '393', '263', '217.19', '559', '586', '204.76', '136.05', '118.86',\n",
       "       '336.81', '120.32', '215', '191.92', '129.46', '180.94', '178.38',\n",
       "       '167.56', '227', '154.40', '143.64', '231.40', '164.30', '147.75',\n",
       "       '174.86', '225.98', '266.84', '103.44', '700', '175', '176.60',\n",
       "       '201.30', '147', '450', '140.90', '245.66', '190.68', '198.88',\n",
       "       '205.74', '133.20', '129.56', '132.62', '167.94', '395.76',\n",
       "       '331.20', '196.08', '182.08', '61.40', '200.98', '197.40',\n",
       "       '132.76', '193.46', '192.52', '130.70', '193.86', '193.94',\n",
       "       '238.88', '172.12', '184.10', '214.52', '153.14', '163.92',\n",
       "       '169.62', '874.80', '163.34', '242.72', '178.60', '169.96', '470',\n",
       "       '150.54', '922.50', '224.62', '196.12', '203.04', '201.96',\n",
       "       '163.30', '213.28', '196.04', '259.34', '163.90', '510', '163.44',\n",
       "       '184.84', '185.12', '187.94', '244.58', '242.30', '214', '248.32',\n",
       "       '171.40', '203.38', '163.14', '195.74', '173', '169.36', '222.98',\n",
       "       '208.26', '245.30', '390', '217.16', '217.72', '123', '132', '220',\n",
       "       '128', '362.60', '204.71', '168', '254', 63.0], dtype=object)"
      ]
     },
     "execution_count": 91,
     "metadata": {},
     "output_type": "execute_result"
    }
   ],
   "source": [
    "# Are there other categrical features that should be dealt with\n",
    "df['utilities'].unique()"
   ]
  },
  {
   "cell_type": "code",
   "execution_count": 92,
   "metadata": {},
   "outputs": [],
   "source": [
    "# Replacing the Keine value with zero\n",
    "df['utilities'] = df['utilities'].replace({'keine':0})"
   ]
  },
  {
   "cell_type": "code",
   "execution_count": 93,
   "metadata": {},
   "outputs": [
    {
     "data": {
      "text/plain": [
       "count     426.000000\n",
       "mean      223.436385\n",
       "std       143.383791\n",
       "min         0.000000\n",
       "25%       135.000000\n",
       "50%       200.000000\n",
       "75%       262.790000\n",
       "max      1026.500000\n",
       "Name: utilities, dtype: float64"
      ]
     },
     "execution_count": 93,
     "metadata": {},
     "output_type": "execute_result"
    }
   ],
   "source": [
    "df['utilities'] = df['utilities'].astype('float')\n",
    "df['utilities'].describe()"
   ]
  },
  {
   "cell_type": "code",
   "execution_count": 94,
   "metadata": {},
   "outputs": [],
   "source": [
    "def fill_missing_utilities(row):\n",
    "    uti_per_rent=(df['utilities']/df['rent']).mean()\n",
    "    # if the value isn't missing, return the value\n",
    "    if not pd.isna(row.utilities):\n",
    "        return float(row.utilities)\n",
    "    else:\n",
    "        return row.rent * uti_per_rent"
   ]
  },
  {
   "cell_type": "code",
   "execution_count": 95,
   "metadata": {},
   "outputs": [
    {
     "data": {
      "text/plain": [
       "count     764.000000\n",
       "mean      217.241590\n",
       "std       145.876086\n",
       "min         0.000000\n",
       "25%       129.913677\n",
       "50%       190.000000\n",
       "75%       263.026047\n",
       "max      1797.077495\n",
       "dtype: float64"
      ]
     },
     "execution_count": 95,
     "metadata": {},
     "output_type": "execute_result"
    }
   ],
   "source": [
    "df.apply(fill_missing_utilities, axis=1).describe()"
   ]
  },
  {
   "cell_type": "markdown",
   "metadata": {
    "id": "BZrL7CM4ZRuA"
   },
   "source": [
    "## 5. Clean: `energy_requirement`\n",
    "\n",
    "Please explain why you choose your strategy for filling the missing values."
   ]
  },
  {
   "cell_type": "code",
   "execution_count": 96,
   "metadata": {
    "id": "A__3sJhWZR3P"
   },
   "outputs": [
    {
     "data": {
      "text/plain": [
       "0.5732984293193717"
      ]
     },
     "execution_count": 96,
     "metadata": {},
     "output_type": "execute_result"
    }
   ],
   "source": [
    "## code here\n",
    "df['energy_requirement'].isna().sum() / len(df)"
   ]
  },
  {
   "cell_type": "code",
   "execution_count": 97,
   "metadata": {
    "scrolled": true
   },
   "outputs": [
    {
     "data": {
      "text/plain": [
       "66,2 kWh/(m²*a)     26\n",
       "61 kWh/(m²*a)       21\n",
       "75,9 kWh/(m²*a)     20\n",
       "74,6 kWh/(m²*a)     15\n",
       "30 kWh/(m²*a)       13\n",
       "                    ..\n",
       "151,8 kWh/(m²*a)     1\n",
       "59,1 kWh/(m²*a)      1\n",
       "118,2 kWh/(m²*a)     1\n",
       "42,6 kWh/(m²*a)      1\n",
       "128,1 kWh/(m²*a)     1\n",
       "Name: energy_requirement, Length: 113, dtype: int64"
      ]
     },
     "execution_count": 97,
     "metadata": {},
     "output_type": "execute_result"
    }
   ],
   "source": [
    "df['energy_requirement'].value_counts()"
   ]
  },
  {
   "cell_type": "code",
   "execution_count": 102,
   "metadata": {},
   "outputs": [
    {
     "data": {
      "text/plain": [
       "66,2     26\n",
       "61       21\n",
       "75,9     20\n",
       "74,6     15\n",
       "30       13\n",
       "         ..\n",
       "237,7     1\n",
       "22,8      1\n",
       "44,5      1\n",
       "47        1\n",
       "82,4      1\n",
       "Name: 0, Length: 113, dtype: int64"
      ]
     },
     "execution_count": 102,
     "metadata": {},
     "output_type": "execute_result"
    }
   ],
   "source": [
    "df['energy_requirement'].str.split(' ', expand=True)[0].value_counts()"
   ]
  },
  {
   "cell_type": "code",
   "execution_count": 100,
   "metadata": {},
   "outputs": [
    {
     "data": {
      "text/plain": [
       "kWh/(m²*a)    326\n",
       "Name: 1, dtype: int64"
      ]
     },
     "execution_count": 100,
     "metadata": {},
     "output_type": "execute_result"
    }
   ],
   "source": [
    "# Split the measuring unit and makeing sure it's the same unit for all rows\n",
    "df['energy_requirement'].str.split(' ', expand=True)[1].value_counts()"
   ]
  },
  {
   "cell_type": "code",
   "execution_count": 103,
   "metadata": {},
   "outputs": [
    {
     "data": {
      "text/plain": [
       "66.2     26\n",
       "61.0     21\n",
       "75.9     20\n",
       "74.6     15\n",
       "30.0     13\n",
       "         ..\n",
       "67.0      1\n",
       "44.5      1\n",
       "128.1     1\n",
       "62.8      1\n",
       "102       1\n",
       "Name: energy_requirement, Length: 113, dtype: int64"
      ]
     },
     "execution_count": 103,
     "metadata": {},
     "output_type": "execute_result"
    }
   ],
   "source": [
    "# Taking the first part of the split to be the energy requirement and converting it to decimals\n",
    "df['energy_requirement'] = df['energy_requirement'].str.split(' ', expand=True)[0]\n",
    "df['energy_requirement'] = df.energy_requirement.apply(convert_decimal)\n",
    "df['energy_requirement'].value_counts()"
   ]
  },
  {
   "cell_type": "code",
   "execution_count": 104,
   "metadata": {},
   "outputs": [
    {
     "data": {
      "text/plain": [
       "count    326.000000\n",
       "mean      79.230215\n",
       "std       45.581363\n",
       "min       16.300000\n",
       "25%       59.825000\n",
       "50%       66.200000\n",
       "75%       79.000000\n",
       "max      239.200000\n",
       "Name: energy_requirement, dtype: float64"
      ]
     },
     "execution_count": 104,
     "metadata": {},
     "output_type": "execute_result"
    }
   ],
   "source": [
    "df['energy_requirement'] = df['energy_requirement'].astype(float)\n",
    "df['energy_requirement'].describe()"
   ]
  },
  {
   "cell_type": "code",
   "execution_count": 105,
   "metadata": {},
   "outputs": [
    {
     "data": {
      "text/plain": [
       "438"
      ]
     },
     "execution_count": 105,
     "metadata": {},
     "output_type": "execute_result"
    }
   ],
   "source": [
    "df['energy_requirement'].isna().sum()"
   ]
  },
  {
   "cell_type": "code",
   "execution_count": 106,
   "metadata": {},
   "outputs": [
    {
     "data": {
      "text/plain": [
       "0.05575851554421179"
      ]
     },
     "execution_count": 106,
     "metadata": {},
     "output_type": "execute_result"
    }
   ],
   "source": [
    "(df['energy_requirement']/df['rent']).mean()"
   ]
  },
  {
   "cell_type": "code",
   "execution_count": 107,
   "metadata": {},
   "outputs": [],
   "source": [
    "def fill_missing_energy_requirement(row):\n",
    "    enreq_per_rent=(df['energy_requirement']/df['rent']).mean()\n",
    "    # if the value isn't missing, return the value\n",
    "    if not pd.isna(row.energy_requirement):\n",
    "        return float(row.energy_requirement)\n",
    "    else:\n",
    "        return row.rent * enreq_per_rent"
   ]
  },
  {
   "cell_type": "code",
   "execution_count": 108,
   "metadata": {},
   "outputs": [
    {
     "data": {
      "text/plain": [
       "count    764.000000\n",
       "mean      88.171051\n",
       "std       57.017383\n",
       "min       15.124497\n",
       "25%       55.479723\n",
       "50%       74.600000\n",
       "75%      104.611617\n",
       "max      792.161230\n",
       "dtype: float64"
      ]
     },
     "execution_count": 108,
     "metadata": {},
     "output_type": "execute_result"
    }
   ],
   "source": [
    "df.apply(fill_missing_energy_requirement, axis=1).describe()"
   ]
  },
  {
   "cell_type": "markdown",
   "metadata": {
    "id": "HtIY4a3v9uas"
   },
   "source": [
    "## (Bonus) Clean: `type_of_certificate`\n",
    "\n",
    "Hint: could two features be created from this data?\n",
    "\n",
    "As with before, explain why you chose your strategy :)"
   ]
  },
  {
   "cell_type": "code",
   "execution_count": 109,
   "metadata": {
    "id": "letuSY50-9w3"
   },
   "outputs": [
    {
     "data": {
      "text/plain": [
       "Bedarfsausweis                                                                                            336\n",
       "Verbrauchsausweis Energie­ver­brauchs­kennwert 98,5 kWh/(m²*a)                                              8\n",
       "Verbrauchsausweis End­energie­verbrauch 204,3 kWh/(m²*a)                                                    7\n",
       "Verbrauchsausweis Energie­ver­brauchs­kennwert 92 kWh/(m²*a) Energieverbrauch für Warmwasser enthalten      5\n",
       "Verbrauchsausweis End­energie­verbrauch 78,34 kWh/(m²*a)                                                    4\n",
       "                                                                                                         ... \n",
       "Verbrauchsausweis End­energie­verbrauch 97,4 kWh/(m²*a)                                                     1\n",
       "Verbrauchsausweis Energie­ver­brauchs­kennwert 81,9 kWh/(m²*a)                                              1\n",
       "Verbrauchsausweis Energie­ver­brauchs­kennwert 128 kWh/(m²*a)                                               1\n",
       "Verbrauchsausweis Energie­ver­brauchs­kennwert 109 kWh/(m²*a)                                               1\n",
       "Verbrauchsausweis End­energie­verbrauch 105,1 kWh/(m²*a)                                                    1\n",
       "Name: type_of_certificate, Length: 85, dtype: int64"
      ]
     },
     "execution_count": 109,
     "metadata": {},
     "output_type": "execute_result"
    }
   ],
   "source": [
    "## code here\n",
    "df['type_of_certificate'].value_counts()"
   ]
  },
  {
   "cell_type": "code",
   "execution_count": 110,
   "metadata": {},
   "outputs": [
    {
     "data": {
      "text/plain": [
       "0.3887434554973822"
      ]
     },
     "execution_count": 110,
     "metadata": {},
     "output_type": "execute_result"
    }
   ],
   "source": [
    "df['type_of_certificate'].isna().sum() / len(df)"
   ]
  },
  {
   "cell_type": "code",
   "execution_count": 112,
   "metadata": {},
   "outputs": [
    {
     "data": {
      "text/plain": [
       "0"
      ]
     },
     "execution_count": 112,
     "metadata": {},
     "output_type": "execute_result"
    }
   ],
   "source": [
    "# First we need to fill the missing values\n",
    "# we can assume that missing means no ceriticate\n",
    "df['type_of_certificate'] = df['type_of_certificate'].fillna(df['type_of_certificate'].mode()[0])\n",
    "df['type_of_certificate'].isna().sum()"
   ]
  },
  {
   "cell_type": "code",
   "execution_count": 115,
   "metadata": {},
   "outputs": [
    {
     "data": {
      "text/plain": [
       "No     633\n",
       "Yes    131\n",
       "Name: Has_Certificate, dtype: int64"
      ]
     },
     "execution_count": 115,
     "metadata": {},
     "output_type": "execute_result"
    }
   ],
   "source": [
    "df.loc[df['type_of_certificate'].str.startswith('Bedarfsausweis'),'Has_Certificate'] = 'No'\n",
    "df.loc[~df['type_of_certificate'].str.startswith('Bedarfsausweis'),'Has_Certificate'] = 'Yes'\n",
    "df['Has_Certificate'].value_counts()"
   ]
  },
  {
   "cell_type": "code",
   "execution_count": null,
   "metadata": {},
   "outputs": [],
   "source": [
    "# We can create 2 fetaures: one the tells whether there's a certificat or not, \n",
    "# and the other gives the amount if there's a certificate\n",
    "df.loc[df['type_of_certificate'].str.startswith('Bedarfsausweis'),'Has_Certificate'] = 'No'\n",
    "df.loc[~df['type_of_certificate'].str.startswith('Bedarfsausweis'),'Has_Certificate'] = 'Yes'\n",
    "df['Has_Certificate'].value_counts()"
   ]
  },
  {
   "cell_type": "code",
   "execution_count": 117,
   "metadata": {},
   "outputs": [
    {
     "data": {
      "text/plain": [
       "98,5     8\n",
       "204,3    7\n",
       "92       5\n",
       "146,8    4\n",
       "120,8    4\n",
       "        ..\n",
       "144,4    1\n",
       "64       1\n",
       "144      1\n",
       "80       1\n",
       "97,4     1\n",
       "Name: 2, Length: 78, dtype: int64"
      ]
     },
     "execution_count": 117,
     "metadata": {},
     "output_type": "execute_result"
    }
   ],
   "source": [
    "df['type_of_certificate'].str.split(' ', expand=True)[2].value_counts()"
   ]
  },
  {
   "cell_type": "code",
   "execution_count": 118,
   "metadata": {},
   "outputs": [
    {
     "data": {
      "text/plain": [
       "count    129.000000\n",
       "mean     126.936822\n",
       "std       42.823111\n",
       "min       53.000000\n",
       "25%       98.500000\n",
       "50%      120.800000\n",
       "75%      146.800000\n",
       "max      219.500000\n",
       "Name: Certificate_Amount, dtype: float64"
      ]
     },
     "execution_count": 118,
     "metadata": {},
     "output_type": "execute_result"
    }
   ],
   "source": [
    "df['Certificate_Amount'] = df['type_of_certificate'].str.split(' ', expand=True)[2]\n",
    "df['Certificate_Amount']= df.Certificate_Amount.apply(convert_decimal)\n",
    "df['Certificate_Amount'] = df['Certificate_Amount'].astype(float)\n",
    "df['Certificate_Amount'].describe()"
   ]
  },
  {
   "cell_type": "code",
   "execution_count": 119,
   "metadata": {},
   "outputs": [
    {
     "data": {
      "text/plain": [
       "635"
      ]
     },
     "execution_count": 119,
     "metadata": {},
     "output_type": "execute_result"
    }
   ],
   "source": [
    "# Null values represent mainly houses without ceritficates\n",
    "df['Certificate_Amount'].isna().sum()"
   ]
  },
  {
   "cell_type": "code",
   "execution_count": 120,
   "metadata": {},
   "outputs": [
    {
     "data": {
      "text/plain": [
       "count    764.000000\n",
       "mean      21.433050\n",
       "std       50.713613\n",
       "min        0.000000\n",
       "25%        0.000000\n",
       "50%        0.000000\n",
       "75%        0.000000\n",
       "max      219.500000\n",
       "Name: Certificate_Amount, dtype: float64"
      ]
     },
     "execution_count": 120,
     "metadata": {},
     "output_type": "execute_result"
    }
   ],
   "source": [
    "# In this case, null values can be replaced by 0 to show that there's no certificate\n",
    "df['Certificate_Amount'].fillna(0).describe()"
   ]
  },
  {
   "cell_type": "markdown",
   "metadata": {
    "id": "xnQMN5CQt90T"
   },
   "source": [
    "--- \n",
    "# Review\n",
    "\n",
    "This section is only for the reviewing team!\n",
    "\n",
    "Guideline how to review:\n",
    "https://docs.google.com/presentation/d/1YORFwlfVQo9ogj7jR9t6_pqxmGIlpBSGubbp1UdtcBQ/edit?usp=sharing\n"
   ]
  },
  {
   "cell_type": "code",
   "execution_count": null,
   "metadata": {
    "colab": {
     "base_uri": "https://localhost:8080/",
     "height": 203
    },
    "id": "t_oU8YSOt-b0",
    "outputId": "55a6f79b-d2a4-4707-f67f-01e452a6d4bb"
   },
   "outputs": [],
   "source": [
    "#@title Review Criteria:\n",
    "%%html\n",
    "<h3><input type=\"checkbox\"> 1. Are all questions answered? <br></h3>\n",
    "<h3><input type=\"checkbox\"> 2. Does all code run through? <br></h3>\n",
    "<h3><input type=\"checkbox\"> 3. Are explanations of fill strategy provided for all relevant questions?  <br></h3>\n",
    "<h3><input type=\"checkbox\"> 4. Are different strategies used for continuous vs categorical data?  <br></h3>\n",
    "<h3><input type=\"checkbox\"> 5. Is the bonus question answered?  <br></h3> "
   ]
  },
  {
   "cell_type": "code",
   "execution_count": null,
   "metadata": {
    "id": "vrmrmS4BavqM"
   },
   "outputs": [],
   "source": []
  }
 ],
 "metadata": {
  "colab": {
   "collapsed_sections": [],
   "name": "Data Cleaning & Missing Values - Project.ipynb",
   "provenance": []
  },
  "kernelspec": {
   "display_name": "Python 3 (ipykernel)",
   "language": "python",
   "name": "python3"
  },
  "language_info": {
   "codemirror_mode": {
    "name": "ipython",
    "version": 3
   },
   "file_extension": ".py",
   "mimetype": "text/x-python",
   "name": "python",
   "nbconvert_exporter": "python",
   "pygments_lexer": "ipython3",
   "version": "3.8.13"
  }
 },
 "nbformat": 4,
 "nbformat_minor": 1
}
